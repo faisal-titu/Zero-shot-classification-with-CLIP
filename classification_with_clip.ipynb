{
 "cells": [
  {
   "cell_type": "code",
   "execution_count": null,
   "metadata": {},
   "outputs": [],
   "source": [
    "!pip install -r requirements.txt"
   ]
  },
  {
   "cell_type": "code",
   "execution_count": null,
   "metadata": {},
   "outputs": [],
   "source": [
    "import torch\n",
    "import clip\n",
    "from PIL import Image"
   ]
  },
  {
   "cell_type": "code",
   "execution_count": null,
   "metadata": {},
   "outputs": [],
   "source": [
    "device = \"cuda\" if torch.cuda.is_available() else \"cpu\"\n",
    "device"
   ]
  },
  {
   "cell_type": "code",
   "execution_count": null,
   "metadata": {},
   "outputs": [],
   "source": [
    "model, preprocess = clip.load(\"ViT-L/14@336px\", device=device)"
   ]
  },
  {
   "cell_type": "code",
   "execution_count": null,
   "metadata": {},
   "outputs": [],
   "source": [
    "print(model)\n",
    "print(preprocess)"
   ]
  },
  {
   "cell_type": "code",
   "execution_count": null,
   "metadata": {},
   "outputs": [],
   "source": [
    "image = preprocess(Image.open(\"2017_Bugatti_Chiron.jpg\")).unsqueeze(0).to(device)\n",
    "image\n"
   ]
  },
  {
   "cell_type": "markdown",
   "metadata": {},
   "source": [
    "#### several prompt, one image"
   ]
  },
  {
   "cell_type": "code",
   "execution_count": null,
   "metadata": {},
   "outputs": [],
   "source": [
    "text = clip.tokenize([\"a dog\", \"a cat\",\"a man\",\"a tree\", \"a car\"]).to(device)\n",
    "text"
   ]
  },
  {
   "cell_type": "code",
   "execution_count": null,
   "metadata": {},
   "outputs": [],
   "source": [
    "with torch.no_grad():\n",
    "  #I leave it here but it is useless for our example. I'll get back to that later\n",
    "  image_features = model.encode_image(image)\n",
    "  text_features = model.encode_text(text)\n",
    "  #Compute score between the image and the tokenizer\n",
    "  logits_per_image, logits_per_text = model(image, text)\n",
    "  #get score with softmax, i.e. total of scores = 1\n",
    "  probs = logits_per_image.softmax(dim=-1).cpu().numpy()\n",
    "#Print scores\n",
    "print(\"Label probs:\", probs)"
   ]
  },
  {
   "cell_type": "markdown",
   "metadata": {},
   "source": [
    "#### several image, one prompt "
   ]
  },
  {
   "cell_type": "code",
   "execution_count": 15,
   "metadata": {},
   "outputs": [],
   "source": [
    "images = ['images/14-6.jpg', 'images/632619b5f15997358f97d4654f2b7175.jpg', 'images/Aeroplane-An-Essay.jpg','images/puppy-1903313_640.jpg']\n",
    "text = clip.tokenize([\"a dog\"]).to(device)"
   ]
  },
  {
   "cell_type": "code",
   "execution_count": 16,
   "metadata": {},
   "outputs": [],
   "source": [
    "imgs = [preprocess(Image.open(img)) for img in images]\n"
   ]
  },
  {
   "cell_type": "code",
   "execution_count": 17,
   "metadata": {},
   "outputs": [
    {
     "name": "stdout",
     "output_type": "stream",
     "text": [
      "Label probs: [[7.528e-05 3.844e-05 1.636e-03 9.980e-01]]\n"
     ]
    }
   ],
   "source": [
    "with torch.no_grad():\n",
    "  #prediction with one prompt, several images. We need to stack the images together\n",
    " logits_per_image, logits_per_text = model(torch.stack(imgs).to(device),text)\n",
    " probs = logits_per_text.softmax(dim=-1).cpu().numpy()\n",
    "print(\"Label probs:\", probs)"
   ]
  },
  {
   "cell_type": "code",
   "execution_count": null,
   "metadata": {},
   "outputs": [],
   "source": []
  }
 ],
 "metadata": {
  "kernelspec": {
   "display_name": "run",
   "language": "python",
   "name": "python3"
  },
  "language_info": {
   "codemirror_mode": {
    "name": "ipython",
    "version": 3
   },
   "file_extension": ".py",
   "mimetype": "text/x-python",
   "name": "python",
   "nbconvert_exporter": "python",
   "pygments_lexer": "ipython3",
   "version": "3.10.12"
  }
 },
 "nbformat": 4,
 "nbformat_minor": 2
}
